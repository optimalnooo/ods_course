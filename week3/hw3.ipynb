{
 "cells": [
  {
   "cell_type": "code",
   "execution_count": 1,
   "metadata": {
    "collapsed": true
   },
   "outputs": [],
   "source": [
    "import numpy as np\n",
    "import pandas as pd\n",
    "from matplotlib import pyplot as plt\n",
    "%matplotlib inline\n",
    "from sklearn.model_selection import train_test_split, GridSearchCV\n",
    "from sklearn.metrics import accuracy_score\n",
    "from sklearn.tree import DecisionTreeClassifier, export_graphviz"
   ]
  },
  {
   "cell_type": "code",
   "execution_count": 2,
   "metadata": {},
   "outputs": [
    {
     "data": {
      "image/png": "[encoded data removed]",
      "text/plain": [
       "<matplotlib.figure.Figure at 0x7f747de3b588>"
      ]
     },
     "metadata": {},
     "output_type": "display_data"
    }
   ],
   "source": [
    "X = np.linspace(-2, 2, 7)\n",
    "y = X ** 3\n",
    "plt.plot(y, [np.around(np.mean(X), decimals=2)]*len(y), lw=2);"
   ]
  },
  {
   "cell_type": "code",
   "execution_count": 3,
   "metadata": {},
   "outputs": [
    {
     "data": {
      "image/png": "[encoded data removed]",
      "text/plain": [
       "<matplotlib.figure.Figure at 0x7f7475bfe860>"
      ]
     },
     "metadata": {},
     "output_type": "display_data"
    }
   ],
   "source": [
    "var1, var2 = X[X<0], X[X>=0]\n",
    "val1 = [np.around(np.mean(y[X<0]), decimals=2)]*len(var1)\n",
    "val2 = [np.around(np.mean(y[X>=0]), decimals=2)]*len(var2)\n",
    "plt.plot(np.r_[var1, var2], np.r_[val1, val2]);"
   ]
  },
  {
   "cell_type": "code",
   "execution_count": 4,
   "metadata": {
    "collapsed": true
   },
   "outputs": [],
   "source": [
    "def regression_var_criterion(X, y, t):\n",
    "    len_0 = len(y)\n",
    "    len_l = len(y[X<t])\n",
    "    len_r = len(y[X>=t])\n",
    "    D0 = np.var(y)\n",
    "    Dl = np.var(y[X<t])\n",
    "    Dr = np.var(y[X>=t])\n",
    "    return D0 - len_l / len_0 * Dl - len_r / len_0 * Dr"
   ]
  },
  {
   "cell_type": "code",
   "execution_count": 5,
   "metadata": {},
   "outputs": [
    {
     "data": {
      "image/png": "[encoded data removed]",
      "text/plain": [
       "<matplotlib.figure.Figure at 0x7f7475b6d4a8>"
      ]
     },
     "metadata": {},
     "output_type": "display_data"
    }
   ],
   "source": [
    "Q_val = [regression_var_criterion(X, y, el) for el in X[1:]]\n",
    "plt.plot(X[1:], Q_val);"
   ]
  },
  {
   "cell_type": "code",
   "execution_count": 6,
   "metadata": {},
   "outputs": [
    {
     "data": {
      "image/png": "[encoded data removed]",
      "text/plain": [
       "<matplotlib.figure.Figure at 0x7f7475aaf588>"
      ]
     },
     "metadata": {},
     "output_type": "display_data"
    }
   ],
   "source": [
    "leaf1 = np.around(np.mean(y[X<-1.5]), decimals=2)\n",
    "leaf2 = np.around(np.mean(y[(-1.5<=X) & (X<0)]), decimals=2)\n",
    "leaf3 = np.around(np.mean(y[(0<=X) & (X<1.5)]), decimals=2)\n",
    "leaf4 = np.around(np.mean(y[1.5<=X]), decimals=2)\n",
    "t = np.arange(-2, 2, 0.1)\n",
    "res = np.r_[\n",
    "    [leaf1]*len(t[t<-1.5]),\n",
    "    [leaf2]*len(t[(-1.5<=t) & (t<0)]),\n",
    "    [leaf3]*len(t[(0<=t) & (t<1.5)]),\n",
    "    [leaf4]*len(t[1.5<=t])\n",
    "]\n",
    "plt.plot(t, res);"
   ]
  },
  {
   "cell_type": "code",
   "execution_count": 22,
   "metadata": {
    "collapsed": true
   },
   "outputs": [],
   "source": [
    "df = pd.read_csv('../data/mlbootcamp5_train.csv', \n",
    "                 index_col='id', sep=';')"
   ]
  },
  {
   "cell_type": "code",
   "execution_count": 23,
   "metadata": {
    "collapsed": true
   },
   "outputs": [],
   "source": [
    "df['age_years'] = np.round(df.age / 365.25)\n",
    "df = pd.concat([\n",
    "    df,\n",
    "    pd.get_dummies(df.cholesterol, prefix='cholesterol'),\n",
    "    pd.get_dummies(df.gluc, prefix='gluc')], axis=1)\n",
    "df = df.drop(['cholesterol', 'gluc'], axis=1)"
   ]
  },
  {
   "cell_type": "code",
   "execution_count": 24,
   "metadata": {
    "collapsed": true
   },
   "outputs": [],
   "source": [
    "X_df = df.drop(['cardio'], axis=1).values\n",
    "y_df = df.cardio.values\n",
    "X_train, X_valid, y_train, y_valid = train_test_split(X_df, y_df, test_size=0.3, random_state=17)"
   ]
  },
  {
   "cell_type": "code",
   "execution_count": 25,
   "metadata": {},
   "outputs": [],
   "source": [
    "clf_tree = DecisionTreeClassifier(max_depth=3, random_state=17);\n",
    "clf_tree.fit(X_train, y_train);"
   ]
  },
  {
   "cell_type": "code",
   "execution_count": 26,
   "metadata": {},
   "outputs": [],
   "source": [
    "export_graphviz(clf_tree, feature_names=df.drop(['cardio'], axis=1).columns, \n",
    "out_file='../img/churn_tree.dot', filled=True)\n",
    "!dot -Tpng '../img/churn_tree.dot' -o '../img/churn_tree.png'"
   ]
  },
  {
   "cell_type": "code",
   "execution_count": 27,
   "metadata": {},
   "outputs": [
    {
     "data": {
      "text/plain": [
       "0.72128571428571431"
      ]
     },
     "execution_count": 27,
     "metadata": {},
     "output_type": "execute_result"
    }
   ],
   "source": [
    "tree_pred = clf_tree.predict(X_valid)\n",
    "print(accuracy_score(y_valid, tree_pred))"
   ]
  },
  {
   "cell_type": "code",
   "execution_count": 29,
   "metadata": {},
   "outputs": [],
   "source": [
    "clf_tree_cv = DecisionTreeClassifier(random_state=17);\n",
    "tree_params = {'max_depth': list(range(2, 11))}\n",
    "tree_grid = GridSearchCV(\n",
    "    clf_tree_cv,\n",
    "    tree_params,\n",
    "    cv=5,\n",
    "    n_jobs=-1);\n",
    "tree_grid.fit(X_train, y_train);"
   ]
  },
  {
   "cell_type": "code",
   "execution_count": 36,
   "metadata": {},
   "outputs": [
    {
     "data": {
      "image/png": "[encoded data removed]",
      "text/plain": [
       "<matplotlib.figure.Figure at 0x7f747587d8d0>"
      ]
     },
     "metadata": {},
     "output_type": "display_data"
    }
   ],
   "source": [
    "plt.plot(list(range(2, 11)), tree_grid.cv_results_['mean_test_score']);"
   ]
  },
  {
   "cell_type": "code",
   "execution_count": 37,
   "metadata": {},
   "outputs": [
    {
     "name": "stdout",
     "output_type": "stream",
     "text": [
      "{'max_depth': 6}\n",
      "0.72580952381\n"
     ]
    }
   ],
   "source": [
    "print(tree_grid.best_params_)\n",
    "tree_pred_cv = tree_grid.predict(X_valid)\n",
    "print(accuracy_score(y_valid, tree_pred_cv))"
   ]
  },
  {
   "cell_type": "code",
   "execution_count": 39,
   "metadata": {},
   "outputs": [
    {
     "name": "stdout",
     "output_type": "stream",
     "text": [
      "0.627186901697\n"
     ]
    }
   ],
   "source": [
    "acc1 = accuracy_score(y_valid, tree_pred)\n",
    "acc2 = accuracy_score(y_valid, tree_pred_cv)\n",
    "print((acc2 - acc1) / acc1 * 100)"
   ]
  },
  {
   "cell_type": "code",
   "execution_count": 50,
   "metadata": {},
   "outputs": [],
   "source": [
    "orig_df = pd.read_csv('../data/mlbootcamp5_train.csv', \n",
    "                 index_col='id', sep=';')\n",
    "\n",
    "def age_categorical(age):\n",
    "    if (age < 45 or age >= 65):\n",
    "        return 0\n",
    "    if age < 50:\n",
    "        return 1\n",
    "    if age < 55:\n",
    "        return 2\n",
    "    if age < 60:\n",
    "        return 3\n",
    "    if age < 65:\n",
    "        return 4\n",
    "    raise ValueError('bad value age: {0}'.format(age))\n",
    "\n",
    "def ap_hi_categorical(ap):\n",
    "    if (ap < 120 or ap >= 180):\n",
    "        return 0\n",
    "    if ap < 140:\n",
    "        return 1\n",
    "    if ap < 160:\n",
    "        return 2\n",
    "    if ap < 180:\n",
    "        return 3\n",
    "    raise ValueError('bad value ap_hi: {0}'.format(ap))\n",
    "\n",
    "def gender_redefine(g):\n",
    "    return g - 1\n",
    "\n",
    "df['age_categorical'] = df.age_years.astype(int).apply(age_categorical)\n",
    "df['ap_hi_categorical'] = df.ap_hi.astype(int).apply(ap_hi_categorical)\n",
    "df['male'] = df.gender.astype(int).apply(gender_redefine)\n",
    "\n",
    "df2 = pd.concat([\n",
    "    pd.get_dummies(df.age_categorical, prefix='age_categ', drop_first=True),\n",
    "    pd.get_dummies(df.ap_hi_categorical, prefix='ap_hi_categ', drop_first=True),\n",
    "    df.smoke,\n",
    "    pd.get_dummies(orig_df.cholesterol, prefix='cholesterol_categ'),\n",
    "    df.male\n",
    "], axis=1)"
   ]
  },
  {
   "cell_type": "code",
   "execution_count": 51,
   "metadata": {
    "collapsed": true
   },
   "outputs": [],
   "source": [
    "X_train = df2.values\n",
    "y_train = df.cardio\n",
    "clf_tree2 = DecisionTreeClassifier(max_depth=3, random_state=17);\n",
    "clf_tree2.fit(X_train, y_train);"
   ]
  },
  {
   "cell_type": "code",
   "execution_count": 52,
   "metadata": {
    "collapsed": true
   },
   "outputs": [],
   "source": [
    "export_graphviz(clf_tree2, feature_names=df2.columns, \n",
    "out_file='../img/churn_tree2.dot', filled=True)\n",
    "!dot -Tpng '../img/churn_tree2.dot' -o '../img/churn_tree2.png'"
   ]
  },
  {
   "cell_type": "code",
   "execution_count": null,
   "metadata": {
    "collapsed": true
   },
   "outputs": [],
   "source": []
  }
 ],
 "metadata": {
  "kernelspec": {
   "display_name": "Python 3",
   "language": "python",
   "name": "python3"
  },
  "language_info": {
   "codemirror_mode": {
    "name": "ipython",
    "version": 3
   },
   "file_extension": ".py",
   "mimetype": "text/x-python",
   "name": "python",
   "nbconvert_exporter": "python",
   "pygments_lexer": "ipython3",
   "version": "3.6.2"
  }
 },
 "nbformat": 4,
 "nbformat_minor": 2
}
